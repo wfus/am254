{
 "cells": [
  {
   "cell_type": "markdown",
   "metadata": {},
   "source": [
    "# Learned Sensing Matrix\n",
    "\n",
    "We got an encoder-decoder like system set up using a similar architecture with DeepCodec. Now let's grab the sensing matrix, load it into MATLAB, and see if we can get better results using a learned sensing matrix on MNIST!"
   ]
  },
  {
   "cell_type": "code",
   "execution_count": 39,
   "metadata": {},
   "outputs": [],
   "source": [
    "import torch\n",
    "from torch import nn\n",
    "from glob import glob"
   ]
  },
  {
   "cell_type": "code",
   "execution_count": 40,
   "metadata": {},
   "outputs": [],
   "source": [
    "ORIGINAL_SIZE = 28"
   ]
  },
  {
   "cell_type": "code",
   "execution_count": 41,
   "metadata": {},
   "outputs": [],
   "source": [
    "class WFUMNISTCodec(nn.Module):\n",
    "    \"\"\"A NN that definitely won't work, lmao, Test our dataloader.\"\"\"\n",
    "    def __init__(self, original_res, sensing_res):\n",
    "        \"\"\"Makes a FCN type architecture, takes in picture dimension d x d\"\"\"\n",
    "        super(WFUMNISTCodec, self).__init__()\n",
    "        \n",
    "        self.m = sensing_res\n",
    "        # Sensing matrix\n",
    "        self.sensing = torch.nn.Linear(original_res * original_res, sensing_res * sensing_res, bias=False)\n",
    "        \n",
    "        self.conv1 = torch.nn.Conv2d(1, 16, kernel_size=5, stride=1, padding=1)\n",
    "        self.conv2 = torch.nn.Conv2d(16, 8, kernel_size=4, stride=1, padding=1)\n",
    "        self.conv3 = torch.nn.Conv2d(8, 4, kernel_size=3, stride=1, padding=1)\n",
    "        self.conv4 = torch.nn.Conv2d(4, 1, kernel_size=3, stride=1, padding=1)\n",
    "        self.upsample = torch.nn.UpsamplingBilinear2d(size=(original_res, original_res))\n",
    "        \n",
    "    def forward(self, x):\n",
    "        # Apply the sensing matrix without activation, reshape back to image-like for FCN\n",
    "        x = self.sensing(x.view(x.shape[0], -1)).view(x.shape[0], 1, self.m, self.m)\n",
    "        x = F.relu(self.conv1(x))\n",
    "        x = F.relu(self.conv2(x))\n",
    "        x = F.relu(self.conv3(x))\n",
    "        x = self.conv4(x)\n",
    "        return self.upsample(x)"
   ]
  },
  {
   "cell_type": "code",
   "execution_count": 4,
   "metadata": {},
   "outputs": [
    {
     "name": "stdout",
     "output_type": "stream",
     "text": [
      "/home/robocup/am254\r\n"
     ]
    }
   ],
   "source": [
    "!pwd"
   ]
  },
  {
   "cell_type": "code",
   "execution_count": 5,
   "metadata": {},
   "outputs": [],
   "source": [
    "torchmodels = list(sorted(glob(\"/home/robocup/am254/models/wfunetsmall*.torchmodel\")))"
   ]
  },
  {
   "cell_type": "code",
   "execution_count": 6,
   "metadata": {},
   "outputs": [],
   "source": [
    "undersamplings = [int(t.replace(\".torchmodel\", \"\").split('_')[-1]) for t in torchmodels]"
   ]
  },
  {
   "cell_type": "markdown",
   "metadata": {},
   "source": [
    "We want to sort by how much we are undersampling. This will make it easier to plot the undersampling ratio $\\alpha$ with metrics of how well the image is recovered later."
   ]
  },
  {
   "cell_type": "code",
   "execution_count": 11,
   "metadata": {},
   "outputs": [],
   "source": [
    "torchmodels, undersamplings = zip(*list(sorted(zip(torchmodels, undersamplings), key=lambda x: x[1])))"
   ]
  },
  {
   "cell_type": "code",
   "execution_count": 14,
   "metadata": {},
   "outputs": [
    {
     "name": "stdout",
     "output_type": "stream",
     "text": [
      "[4, 8, 9, 10, 11, 12, 13, 14, 15, 16, 17, 18, 19, 20, 21, 22, 23, 24, 25, 26, 27]\n"
     ]
    }
   ],
   "source": [
    "print(list(undersamplings))"
   ]
  },
  {
   "cell_type": "markdown",
   "metadata": {},
   "source": [
    "## Getting the Sensing Matrix"
   ]
  },
  {
   "cell_type": "markdown",
   "metadata": {},
   "source": [
    "The sensing matrix is just the first fully connected layer that maps MNIST into a lower dimensional space. Let's return this and serialize it into something that MATLAB can load."
   ]
  },
  {
   "cell_type": "code",
   "execution_count": 15,
   "metadata": {},
   "outputs": [],
   "source": [
    "def get_sensing_from_model(model):\n",
    "    params = list(model.parameters())\n",
    "    return params[0].detach().cpu().numpy()"
   ]
  },
  {
   "cell_type": "code",
   "execution_count": 16,
   "metadata": {},
   "outputs": [],
   "source": [
    "models = [torch.load(t) for t in torchmodels]"
   ]
  },
  {
   "cell_type": "code",
   "execution_count": 17,
   "metadata": {},
   "outputs": [],
   "source": [
    "sensing_layers = [get_sensing_from_model(torch.load(t)) for t in torchmodels] "
   ]
  },
  {
   "cell_type": "code",
   "execution_count": 18,
   "metadata": {},
   "outputs": [
    {
     "name": "stdout",
     "output_type": "stream",
     "text": [
      "(16, 784)\n",
      "(64, 784)\n",
      "(81, 784)\n",
      "(100, 784)\n",
      "(121, 784)\n",
      "(144, 784)\n",
      "(169, 784)\n",
      "(196, 784)\n",
      "(225, 784)\n",
      "(256, 784)\n",
      "(289, 784)\n",
      "(324, 784)\n",
      "(361, 784)\n",
      "(400, 784)\n",
      "(441, 784)\n",
      "(484, 784)\n",
      "(529, 784)\n",
      "(576, 784)\n",
      "(625, 784)\n",
      "(676, 784)\n",
      "(729, 784)\n"
     ]
    }
   ],
   "source": [
    "for sensing_matrix in sensing_layers:\n",
    "    print(sensing_matrix.shape)"
   ]
  },
  {
   "cell_type": "markdown",
   "metadata": {},
   "source": [
    "Now let's save our results into MATLAB, so we can use these trained sensing matrices and see whether or not they can improve the results from our basis pursuit algorithm."
   ]
  },
  {
   "cell_type": "code",
   "execution_count": 20,
   "metadata": {},
   "outputs": [],
   "source": [
    "from scipy.io import savemat"
   ]
  },
  {
   "cell_type": "code",
   "execution_count": 21,
   "metadata": {},
   "outputs": [],
   "source": [
    "sense_map = {}\n",
    "for dim, mat in zip(undersamplings, sensing_layers):\n",
    "    sense_map['sensematrix' + str(dim)] = mat\n",
    "savemat('small_conv_sensing_matrices.mat', sense_map)"
   ]
  },
  {
   "cell_type": "markdown",
   "metadata": {},
   "source": [
    "# Visualizing Model Results\n",
    "\n",
    "Now let's plot the predictions for each sparsity for a very small model trained after 30 epochs.\n"
   ]
  },
  {
   "cell_type": "code",
   "execution_count": 22,
   "metadata": {},
   "outputs": [],
   "source": [
    "from __future__ import print_function\n",
    "import argparse\n",
    "import torch\n",
    "import torch.nn as nn\n",
    "import torch.nn.functional as F\n",
    "import torch.optim as optim\n",
    "from torchvision import datasets, transforms\n",
    "\n",
    "from torch import distributions as ds\n",
    "from torch.utils import data as utils\n",
    "\n",
    "import numpy as np\n",
    "import scipy\n",
    "import sys\n",
    "from matplotlib import pyplot as plt\n",
    "%matplotlib inline"
   ]
  },
  {
   "cell_type": "code",
   "execution_count": 23,
   "metadata": {},
   "outputs": [
    {
     "name": "stdout",
     "output_type": "stream",
     "text": [
      "Using device: cuda:0\n"
     ]
    }
   ],
   "source": [
    "train_loader = torch.utils.data.DataLoader(\n",
    "        datasets.MNIST('../data', train=True, download=True,\n",
    "                       transform=transforms.Compose([\n",
    "                           transforms.ToTensor(),\n",
    "                           transforms.Normalize((0.1307,), (0.3081,))\n",
    "                       ])),\n",
    "        batch_size=128, shuffle=True)\n",
    "test_loader = torch.utils.data.DataLoader(\n",
    "    datasets.MNIST('../data', train=False, transform=transforms.Compose([\n",
    "                       transforms.ToTensor(),\n",
    "                       transforms.Normalize((0.1307,), (0.3081,))\n",
    "                   ])),\n",
    "batch_size=128, shuffle=True)\n",
    "\n",
    "device = torch.device(\"cuda:0\" if torch.cuda.is_available() else \"cpu\")\n",
    "print('Using device: %s' % str(device))"
   ]
  },
  {
   "cell_type": "code",
   "execution_count": 24,
   "metadata": {},
   "outputs": [],
   "source": [
    "random_test_X, random_test_y = None, None\n",
    "for X, y in train_loader:\n",
    "    random_test_X = X.clone()\n",
    "    random_test_y = X.clone()\n",
    "    break\n",
    "\n",
    "# random_test_X, random_test_y = None, None\n",
    "# for X, y in test_loader:\n",
    "#     random_test_X = X.clone()\n",
    "#     random_test_y = X.clone()\n",
    "#     break"
   ]
  },
  {
   "cell_type": "code",
   "execution_count": 25,
   "metadata": {},
   "outputs": [
    {
     "name": "stderr",
     "output_type": "stream",
     "text": [
      "/usr/local/lib/python2.7/dist-packages/torch/nn/modules/upsampling.py:225: UserWarning: nn.UpsamplingBilinear2d is deprecated. Use nn.functional.interpolate instead.\n",
      "  warnings.warn(\"nn.UpsamplingBilinear2d is deprecated. Use nn.functional.interpolate instead.\")\n",
      "/usr/local/lib/python2.7/dist-packages/torch/nn/modules/upsampling.py:122: UserWarning: nn.Upsampling is deprecated. Use nn.functional.interpolate instead.\n",
      "  warnings.warn(\"nn.Upsampling is deprecated. Use nn.functional.interpolate instead.\")\n"
     ]
    }
   ],
   "source": [
    "test_y_hats = [model(random_test_X.to(device)).detach() for model in models]\n",
    "result_images = [test_y_hat.permute(0, 3, 1, 2).cpu().numpy().reshape(test_y_hat.shape[0], ORIGINAL_SIZE, ORIGINAL_SIZE).swapaxes(1, 2) for test_y_hat in test_y_hats]\n",
    "actual = random_test_y.permute(0, 3, 1, 2).cpu().numpy().reshape(random_test_y.shape[0], ORIGINAL_SIZE, ORIGINAL_SIZE).swapaxes(1, 2)"
   ]
  },
  {
   "cell_type": "code",
   "execution_count": 26,
   "metadata": {},
   "outputs": [
    {
     "data": {
      "text/plain": [
       "21"
      ]
     },
     "execution_count": 26,
     "metadata": {},
     "output_type": "execute_result"
    }
   ],
   "source": [
    "len(result_images)"
   ]
  },
  {
   "cell_type": "code",
   "execution_count": 27,
   "metadata": {},
   "outputs": [
    {
     "data": {
      "image/png": "[encoded data removed]",
      "text/plain": [
       "<Figure size 432x288 with 1 Axes>"
      ]
     },
     "metadata": {
      "needs_background": "light"
     },
     "output_type": "display_data"
    }
   ],
   "source": [
    "plt.imshow(actual[1])\n",
    "plt.show()"
   ]
  },
  {
   "cell_type": "code",
   "execution_count": 28,
   "metadata": {},
   "outputs": [],
   "source": [
    "import math\n",
    "def snr_two_images(img1, ref):\n",
    "    mse = ((img1 - ref) ** 2).mean()\n",
    "    mean = (ref ** 2).mean()\n",
    "    snr = 80 * math.log10(mean / np.sqrt(mse))\n",
    "    return snr"
   ]
  },
  {
   "cell_type": "markdown",
   "metadata": {},
   "source": [
    "The full image size of MNIST is $28 \\times 28 = 784$, so the undersampling rate will be the side length squared divided by 784."
   ]
  },
  {
   "cell_type": "code",
   "execution_count": 30,
   "metadata": {},
   "outputs": [],
   "source": [
    "alphas = [u * u / 784.0 for u in undersamplings]"
   ]
  },
  {
   "cell_type": "code",
   "execution_count": 32,
   "metadata": {},
   "outputs": [],
   "source": [
    "# Calculate the SNRs between predicted and actual\n",
    "snrs = np.zeros((len(result_images), len(actual)))\n",
    "for im_idx in range(len(actual)):\n",
    "    for index in range(len(result_images)):\n",
    "        snrs[index][im_idx] = snr_two_images(result_images[index][im_idx], actual[im_idx])"
   ]
  },
  {
   "cell_type": "code",
   "execution_count": 34,
   "metadata": {},
   "outputs": [
    {
     "data": {
      "image/png": "[encoded data removed]",
      "text/plain": [
       "<Figure size 1008x576 with 1 Axes>"
      ]
     },
     "metadata": {
      "needs_background": "light"
     },
     "output_type": "display_data"
    }
   ],
   "source": [
    "plt.figure(figsize=(14, 8))\n",
    "plt.xlim(-0.1, 1.1)\n",
    "plt.boxplot(snrs.tolist(), positions=alphas, manage_xticks=False, widths=0.02, )\n",
    "plt.xlabel(r\"Undersampling ratio $\\alpha$\", fontsize=18)\n",
    "plt.ylabel(r\"SNR\", fontsize=18)\n",
    "plt.title(\"SNR of FCN Neural Network reconstruction over the MNIST testing data\", fontsize=20)\n",
    "plt.show()"
   ]
  },
  {
   "cell_type": "code",
   "execution_count": null,
   "metadata": {},
   "outputs": [],
   "source": [
    "def plot_examples(index_lst):\n",
    "    SIZE = 3\n",
    "    n_models = len(result_images)\n",
    "    k = len(index_lst)\n",
    "    plt.figure(figsize=(SIZE * n_models, SIZE * k))  \n",
    "    print(n_models)\n",
    "    for i, index in enumerate(index_lst):\n",
    "        for idx, result_image in enumerate(result_images):\n",
    "            # Get minimum of the result and the real image to use same colorbar colors\n",
    "            # Write titles if it is the first one\n",
    "            plt.subplot(k, n_models + 1, (n_models + 1) * i + 1 + idx)\n",
    "            \n",
    "            if i == 0:\n",
    "                undersample_rate = float(undersamplings[idx] ** 2) / ORIGINAL_SIZE ** 2\n",
    "                plt.title('Undersample = %0.2f' % undersample_rate, fontsize=50)\n",
    "            \n",
    "            res = (((result_image[index] + 0.1307)))\n",
    "            # plt.imshow(res, cmap='gray', vmin=min_val, vmax=max_val)\n",
    "            plt.imshow(res, cmap='gray')\n",
    "            # plt.colorbar()\n",
    "            plt.autoscale(False)\n",
    "            #print(n_models * i + 1 + idx)\n",
    "\n",
    "        #print(n_models * (i + 1))\n",
    "        plt.subplot(k, n_models + 1, (n_models + 1) * (i + 1) + 1)\n",
    "        a = ((actual[index] + 0.1307))\n",
    "        # plt.imshow(a, cmap='gray', vmin=min_val, vmax=max_val)\n",
    "        # plt.imshow(actual[index], cmap='gray')\n",
    "        plt.imshow(actual[index], cmap='gray')\n",
    "        # plt.colorbar()\n",
    "        plt.autoscale(False)\n",
    "        \n",
    "    plt.show()"
   ]
  },
  {
   "cell_type": "code",
   "execution_count": null,
   "metadata": {
    "scrolled": true
   },
   "outputs": [],
   "source": [
    "plot_examples([1, 2, 3, 4])"
   ]
  },
  {
   "cell_type": "code",
   "execution_count": null,
   "metadata": {},
   "outputs": [],
   "source": []
  }
 ],
 "metadata": {
  "kernelspec": {
   "display_name": "Python 3",
   "language": "python",
   "name": "python3"
  },
  "language_info": {
   "codemirror_mode": {
    "name": "ipython",
    "version": 2
   },
   "file_extension": ".py",
   "mimetype": "text/x-python",
   "name": "python",
   "nbconvert_exporter": "python",
   "pygments_lexer": "ipython2",
   "version": "2.7.12"
  }
 },
 "nbformat": 4,
 "nbformat_minor": 2
}
