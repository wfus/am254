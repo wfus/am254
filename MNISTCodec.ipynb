{
 "cells": [
  {
   "cell_type": "markdown",
   "metadata": {
    "colab_type": "text",
    "id": "Sa_w85oUySsR"
   },
   "source": [
    "# DeepCodec on MNIST\n",
    "\n",
    "Here we jointly optimizing the sensing matrix $A$ as well as the reconstruction layer. Hopefully, this will get us much better results than before. Also, it makes loading the test and training batches so much easier!"
   ]
  },
  {
   "cell_type": "code",
   "execution_count": 1,
   "metadata": {
    "colab": {},
    "colab_type": "code",
    "id": "mO9qE0zY1CO2"
   },
   "outputs": [],
   "source": [
    "from __future__ import print_function\n",
    "import argparse\n",
    "import torch\n",
    "import torch.nn as nn\n",
    "import torch.nn.functional as F\n",
    "import torch.optim as optim\n",
    "from torchvision import datasets, transforms"
   ]
  },
  {
   "cell_type": "code",
   "execution_count": 3,
   "metadata": {
    "colab": {},
    "colab_type": "code",
    "id": "OMx_GVPd2AxV"
   },
   "outputs": [],
   "source": [
    "from torch import distributions as ds\n",
    "from torch.utils import data as utils\n",
    "\n",
    "import numpy as np\n",
    "import scipy\n",
    "import sys\n",
    "from matplotlib import pyplot as plt\n",
    "%matplotlib inline\n",
    "\n",
    "# Liveloss plot plots loss just for jupyter notebooks\n",
    "from livelossplot import PlotLosses"
   ]
  },
  {
   "cell_type": "code",
   "execution_count": 4,
   "metadata": {
    "colab": {},
    "colab_type": "code",
    "id": "QVSNEMGl1gbV"
   },
   "outputs": [],
   "source": [
    "BATCH_SIZE = 4096\n",
    "ORIGINAL_SIZE = 28\n",
    "UNDERSAMPLED_SIZE = 10\n",
    "N = ORIGINAL_SIZE * ORIGINAL_SIZE\n",
    "M = UNDERSAMPLED_SIZE * UNDERSAMPLED_SIZE"
   ]
  },
  {
   "cell_type": "code",
   "execution_count": 5,
   "metadata": {
    "colab": {},
    "colab_type": "code",
    "id": "A9XY8qGN1YRw"
   },
   "outputs": [],
   "source": [
    "train_loader = torch.utils.data.DataLoader(\n",
    "        datasets.MNIST('../data', train=True, download=True,\n",
    "                       transform=transforms.Compose([\n",
    "                           transforms.ToTensor(),\n",
    "                           transforms.Normalize((0.1307,), (0.3081,))\n",
    "                       ])),\n",
    "        batch_size=BATCH_SIZE, shuffle=True)\n",
    "test_loader = torch.utils.data.DataLoader(\n",
    "    datasets.MNIST('../data', train=False, transform=transforms.Compose([\n",
    "                       transforms.ToTensor(),\n",
    "                       transforms.Normalize((0.1307,), (0.3081,))\n",
    "                   ])),\n",
    "batch_size=BATCH_SIZE, shuffle=True)"
   ]
  },
  {
   "cell_type": "code",
   "execution_count": 6,
   "metadata": {
    "colab": {
     "base_uri": "https://localhost:8080/",
     "height": 34
    },
    "colab_type": "code",
    "id": "uYQ9XZFA2SZb",
    "outputId": "30b63fc5-f222-46b4-f07d-dffd5ac3793c"
   },
   "outputs": [
    {
     "name": "stdout",
     "output_type": "stream",
     "text": [
      "Using device: cuda:0\n"
     ]
    }
   ],
   "source": [
    "device = torch.device(\"cuda:0\" if torch.cuda.is_available() else \"cpu\")\n",
    "print('Using device: %s' % str(device))"
   ]
  },
  {
   "cell_type": "code",
   "execution_count": 10,
   "metadata": {
    "colab": {},
    "colab_type": "code",
    "id": "-hSjrjaa19Ob"
   },
   "outputs": [],
   "source": [
    "class WFUMNISTCodec(nn.Module):\n",
    "    \"\"\"A NN that definitely won't work, lmao, Test our dataloader.\"\"\"\n",
    "    def __init__(self, original_res, sensing_res):\n",
    "        \"\"\"Makes a FCN type architecture, takes in picture dimension d x d\"\"\"\n",
    "        super(WFUMNISTCodec, self).__init__()\n",
    "        \n",
    "        self.m = sensing_res\n",
    "        # Sensing matrix\n",
    "        self.sensing = torch.nn.Linear(original_res * original_res, sensing_res * sensing_res)\n",
    "        \n",
    "        self.conv1 = torch.nn.Conv2d(1, 64, kernel_size=5, stride=1, padding=1)\n",
    "        self.conv2 = torch.nn.Conv2d(64, 32, kernel_size=4, stride=1, padding=1)\n",
    "        self.conv3 = torch.nn.Conv2d(32, 16, kernel_size=3, stride=1, padding=1)\n",
    "        self.conv4 = torch.nn.Conv2d(16, 1, kernel_size=3, stride=1, padding=1)\n",
    "        self.upsample = torch.nn.UpsamplingBilinear2d(size=(original_res, original_res))\n",
    "        \n",
    "        \n",
    "        \n",
    "    def forward(self, x):\n",
    "        # Apply the sensing matrix without activation, reshape back to image-like for FCN\n",
    "        x = self.sensing(x.view(x.shape[0], -1)).view(x.shape[0], 1, self.m, self.m)\n",
    "        x = F.relu(self.conv1(x))\n",
    "        x = F.relu(self.conv2(x))\n",
    "        x = F.relu(self.conv3(x))\n",
    "        x = self.conv4(x)\n",
    "        return self.upsample(x)"
   ]
  },
  {
   "cell_type": "code",
   "execution_count": 11,
   "metadata": {
    "colab": {},
    "colab_type": "code",
    "id": "Cjus1Xk61sB2"
   },
   "outputs": [],
   "source": [
    "# Early Stopping Policy:\n",
    "# If we plateau for more than N steps, TERMINATE\n",
    "test_losses = []\n",
    "TERM_EPOCHS = 100000000\n",
    "LR_DECAY_STEPS = 10\n",
    "\n",
    "def train_fcn_mnist(network, epochs=10000, lr=0.001):\n",
    "    import tqdm\n",
    "    liveloss = PlotLosses()\n",
    "    # epoch_queue = tqdm.tqdm(range(epochs))\n",
    "    for epoch in range(epochs):\n",
    "        training_loss = 0\n",
    "        for index, batch in enumerate(train_loader):\n",
    "            X, _ = batch\n",
    "            y = X.clone().to(device)\n",
    "            X = X.to(device)\n",
    "            \n",
    "            optimizer = torch.optim.SGD(network.parameters(), lr=lr, momentum=0.5)\n",
    "            scheduler = torch.optim.lr_scheduler.StepLR(optimizer, step_size=1, gamma=0.9)\n",
    "            criterion = nn.MSELoss()\n",
    "\n",
    "            optimizer.zero_grad()\n",
    "            y_hat = network(X)\n",
    "            loss = criterion(y_hat, y.to(device))\n",
    "            loss.backward()\n",
    "            optimizer.step()\n",
    "            \n",
    "            training_loss += float(loss.detach().cpu())\n",
    "            \n",
    "            lr_string = \"\"\n",
    "            for param_group in optimizer.param_groups:\n",
    "                lr_string = str(param_group['lr'])\n",
    "            # epoch_queue.set_description(\"Loss this batch: %s and %s\" % (str(loss / 16 / 32 / 32 / 3 ), lr_string))\n",
    "            \n",
    "        test_loss = 0\n",
    "        for index, batch in enumerate(test_loader):\n",
    "            X_test, _ = batch\n",
    "            y_test = X_test.clone().to(device)\n",
    "            X_test = X_test.to(device)\n",
    "            y_hat = network(X_test.to(device))\n",
    "            test_loss += float(criterion(y_hat, y_test))\n",
    "        test_losses.append(test_loss)\n",
    "        # Terinate if we don't get past the min in TERM_EPOCH steps\n",
    "        # and its over the average\n",
    "        if epoch - np.array(test_losses).argmin() > TERM_EPOCHS and (test_losses[-1] > np.array(test_losses)[-TERM_EPOCHS:].mean()):\n",
    "            print('Terminated due to plateu')\n",
    "            return\n",
    "        \n",
    "        liveloss.update({\n",
    "            'train': training_loss,\n",
    "            'accuracy': test_loss\n",
    "        })\n",
    "        liveloss.draw()\n",
    "        \n",
    "        \n",
    "        if (epoch + 1) % LR_DECAY_STEPS == 0:\n",
    "            scheduler.step()"
   ]
  },
  {
   "cell_type": "code",
   "execution_count": 12,
   "metadata": {
    "colab": {},
    "colab_type": "code",
    "id": "wwx_HeOl2N4p"
   },
   "outputs": [],
   "source": [
    "wfunet = WFUMNISTCodec(ORIGINAL_SIZE, UNDERSAMPLED_SIZE).to(device)"
   ]
  },
  {
   "cell_type": "code",
   "execution_count": null,
   "metadata": {
    "colab": {
     "base_uri": "https://localhost:8080/"
    },
    "colab_type": "code",
    "id": "5QL_ufWN3DOr",
    "outputId": "19467b91-8217-4fad-cd3e-d6e367520f3f"
   },
   "outputs": [
    {
     "data": {
      "image/png": "[encoded data removed]",
      "text/plain": [
       "<Figure size 864x576 with 2 Axes>"
      ]
     },
     "metadata": {
      "needs_background": "light"
     },
     "output_type": "display_data"
    },
    {
     "name": "stdout",
     "output_type": "stream",
     "text": [
      "train:\n",
      "training   (min:   12.736, max:   14.906, cur:   12.736)\n",
      "\n",
      "accuracy:\n",
      "training   (min:    2.574, max:    3.028, cur:    2.575)\n"
     ]
    }
   ],
   "source": [
    "train_fcn_mnist(wfunet, lr=0.0001)"
   ]
  },
  {
   "cell_type": "code",
   "execution_count": null,
   "metadata": {
    "colab": {},
    "colab_type": "code",
    "id": "GBP-fP2D4SEz"
   },
   "outputs": [],
   "source": [
    "random_test_X, random_test_y = None, None\n",
    "for X, y in train_loader:\n",
    "    random_test_X = X.clone()\n",
    "    random_test_y = X.clone()\n",
    "    break\n",
    "\n",
    "# random_test_X, random_test_y = None, None\n",
    "# for X, y in test_loader:\n",
    "#     random_test_X = X.clone()\n",
    "#     random_test_y = X.clone()\n",
    "#     break"
   ]
  },
  {
   "cell_type": "code",
   "execution_count": 0,
   "metadata": {
    "colab": {},
    "colab_type": "code",
    "id": "olImfZMIJTeC"
   },
   "outputs": [],
   "source": [
    "test_y_hat = wfunet(random_test_X.to(device)).detach()\n",
    "result_images = test_y_hat.permute(0, 3, 1, 2).cpu().numpy().reshape(test_y_hat.shape[0], ORIGINAL_SIZE, ORIGINAL_SIZE).swapaxes(1, 2)\n",
    "actual = random_test_y.permute(0, 3, 1, 2).cpu().numpy().reshape(random_test_y.shape[0], ORIGINAL_SIZE, ORIGINAL_SIZE).swapaxes(1, 2)"
   ]
  },
  {
   "cell_type": "code",
   "execution_count": 0,
   "metadata": {
    "colab": {},
    "colab_type": "code",
    "id": "nWG5rSR_3GTM"
   },
   "outputs": [],
   "source": [
    "indexes = [13, 14, 15, 16]\n",
    "\n",
    "def plot_examples(index_lst):\n",
    "    SIZE = 12\n",
    "    plt.figure(figsize=(SIZE, len(index_lst)/2 * SIZE))  \n",
    "    for i, index in enumerate(index_lst):\n",
    "        # Get minimum of the result and the real image to use same colorbar colors\n",
    "        min_val = min(result_images[index].min(), actual[index].min())\n",
    "        max_val = max(result_images[index].max(), actual[index].max())\n",
    "        plt.subplot(len(index_lst), 2, 2*i + 1)\n",
    "        res = (((result_images[index] + 0.1307)))\n",
    "        plt.imshow(res, cmap='gray', vmin=min_val, vmax=max_val)\n",
    "        plt.colorbar()\n",
    "        plt.autoscale(False)\n",
    "        \n",
    "        plt.subplot(len(index_lst), 2, 2*i + 2)\n",
    "        a = ((actual[index] + 0.1307))\n",
    "        plt.imshow(a, cmap='gray', vmin=min_val, vmax=max_val)\n",
    "        plt.colorbar()\n",
    "        plt.autoscale(False)\n",
    "        \n",
    "    plt.show()"
   ]
  },
  {
   "cell_type": "code",
   "execution_count": 0,
   "metadata": {
    "colab": {},
    "colab_type": "code",
    "id": "gjXQhhlvKv1n"
   },
   "outputs": [],
   "source": [
    "plot_examples([17, 18, 19, 20])"
   ]
  },
  {
   "cell_type": "code",
   "execution_count": 0,
   "metadata": {
    "colab": {},
    "colab_type": "code",
    "id": "LG3eEh37a_je"
   },
   "outputs": [],
   "source": []
  }
 ],
 "metadata": {
  "colab": {
   "name": "MNISTCodec.ipynb",
   "provenance": [],
   "version": "0.3.2"
  },
  "kernelspec": {
   "display_name": "Python 3",
   "language": "python",
   "name": "python3"
  },
  "language_info": {
   "codemirror_mode": {
    "name": "ipython",
    "version": 2
   },
   "file_extension": ".py",
   "mimetype": "text/x-python",
   "name": "python",
   "nbconvert_exporter": "python",
   "pygments_lexer": "ipython2",
   "version": "2.7.12"
  }
 },
 "nbformat": 4,
 "nbformat_minor": 1
}
