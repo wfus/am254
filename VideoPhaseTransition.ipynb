{
 "cells": [
  {
   "cell_type": "markdown",
   "metadata": {},
   "source": [
    "# Phase Transition?\n",
    "\n",
    "We will see if we can get a phase transition when we distribute $x$ as a sparse Laplacian."
   ]
  },
  {
   "cell_type": "code",
   "execution_count": 1,
   "metadata": {},
   "outputs": [],
   "source": [
    "import glob\n",
    "import os\n",
    "import cv2\n",
    "import numpy as np\n",
    "import tqdm\n",
    "from matplotlib import pyplot as plt\n",
    "\n",
    "import torch\n",
    "import torch.distributions as ds\n",
    "import random"
   ]
  },
  {
   "cell_type": "code",
   "execution_count": 180,
   "metadata": {},
   "outputs": [],
   "source": [
    "def sample_laplace(scale, sparsity, num_samples):\n",
    "    \"\"\"Returns a sample of laplacian with sparsity and quantized to integers.\"\"\"\n",
    "    a = ds.Laplace(torch.zeros(num_samples), torch.ones(num_samples) * scale)\n",
    "    # Sample and sparsify\n",
    "    sample = a.sample().numpy()\n",
    "    for index in range(len(sample)):\n",
    "        if random.random() < sparsity:\n",
    "            sample[index] = 0\n",
    "    # sample = np.round(sample)\n",
    "    return sample\n",
    "\n",
    "def sample_gaussian(sparsity, num_samples):\n",
    "    \"\"\"Returns a sample of gaussian with sparsity and quantized to integers.\"\"\"\n",
    "    a = ds.Normal(torch.zeros(num_samples), torch.ones(num_samples))\n",
    "    # Sample and sparsify\n",
    "    sample = a.sample().numpy()\n",
    "    for index in range(len(sample)):\n",
    "        if random.random() < sparsity:\n",
    "            sample[index] = 0\n",
    "    # sample = np.round(sample)\n",
    "    return sample\n"
   ]
  },
  {
   "cell_type": "markdown",
   "metadata": {},
   "source": [
    "Retrieval of compressed sensing should be the linear programming minimization question:\n",
    "\n",
    "$$\\min \\| \\hat{x} \\|_1  ~ ~ ~ ~ ~ ~ \\text{s.t. } A \\hat{x} = y$$\n",
    "\n",
    "We can convert this to the linear program:\n",
    "\n",
    "$$\\min \\sum_i^{2N} c_i  ~ ~ ~ ~ ~ ~ \\text{s.t. } [A, -A] c = y, ~ ~ c \\ge 0$$ "
   ]
  },
  {
   "cell_type": "code",
   "execution_count": 181,
   "metadata": {},
   "outputs": [],
   "source": [
    "def solve(A, y, M, N):\n",
    "    \"\"\"Use scipy linear programming to do the compressed sensing retrieval\"\"\"\n",
    "    from scipy.optimize import linprog\n",
    "    Aprime = np.hstack([A, A])\n",
    "    res = linprog(np.ones(2 * N), A_eq=Aprime, b_eq=y, method='interior-point')  # default bounds are >= 0\n",
    "    print(res.message)\n",
    "    return res.x[:N] - res.x[N:]"
   ]
  },
  {
   "cell_type": "code",
   "execution_count": 182,
   "metadata": {},
   "outputs": [],
   "source": [
    "M = 48\n",
    "N = 50"
   ]
  },
  {
   "cell_type": "code",
   "execution_count": 184,
   "metadata": {},
   "outputs": [],
   "source": [
    "A_dist = ds.Normal(torch.zeros(M, N), torch.ones(M, N) * (1.0 / np.sqrt(N)))\n",
    "\n",
    "A = A_dist.sample().numpy()\n",
    "# x = sample_laplace(1, 0.5, N)\n",
    "x = sample_gaussian(0.5, N)\n",
    "y = np.matmul(A, x)"
   ]
  },
  {
   "cell_type": "code",
   "execution_count": 185,
   "metadata": {},
   "outputs": [
    {
     "name": "stdout",
     "output_type": "stream",
     "text": [
      "The algorithm terminated successfully and determined that the problem is infeasible.\n"
     ]
    }
   ],
   "source": [
    "xhat = solve(A, y, M, N)"
   ]
  },
  {
   "cell_type": "code",
   "execution_count": 190,
   "metadata": {},
   "outputs": [
    {
     "data": {
      "text/plain": [
       "array([-0.6880156 ,  0.09673514,  0.51045156,  0.64267814,  0.        ,\n",
       "        0.        ,  0.49751276,  0.        ,  0.72851604,  0.        ,\n",
       "        1.3408366 , -1.2541963 ,  1.5012279 ,  0.22293298,  1.8803587 ,\n",
       "        0.        ,  0.67827165,  0.        , -0.26296946,  0.7015628 ,\n",
       "        0.8602191 , -0.87063205,  0.        ,  1.3034264 , -0.5041305 ,\n",
       "       -0.29989025,  0.        ,  0.        ,  0.        ,  0.        ,\n",
       "        0.        , -0.2947102 ,  0.        , -1.1545197 ,  0.23995249,\n",
       "        0.4512319 , -0.5031786 ,  0.        , -2.05831   ,  0.        ,\n",
       "       -0.42663136,  0.        ,  0.        ,  0.        , -1.2557834 ,\n",
       "       -0.04026556,  0.        ,  0.        ,  0.        , -0.14472713],\n",
       "      dtype=float32)"
      ]
     },
     "execution_count": 190,
     "metadata": {},
     "output_type": "execute_result"
    }
   ],
   "source": [
    "x"
   ]
  },
  {
   "cell_type": "code",
   "execution_count": 187,
   "metadata": {},
   "outputs": [
    {
     "data": {
      "text/plain": [
       "array([0., 0., 0., 0., 0., 0., 0., 0., 0., 0., 0., 0., 0., 0., 0., 0., 0.,\n",
       "       0., 0., 0., 0., 0., 0., 0., 0., 0., 0., 0., 0., 0., 0., 0., 0., 0.,\n",
       "       0., 0., 0., 0., 0., 0., 0., 0., 0., 0., 0., 0., 0., 0., 0., 0.])"
      ]
     },
     "execution_count": 187,
     "metadata": {},
     "output_type": "execute_result"
    }
   ],
   "source": [
    "xhat"
   ]
  },
  {
   "cell_type": "code",
   "execution_count": null,
   "metadata": {},
   "outputs": [],
   "source": []
  }
 ],
 "metadata": {
  "kernelspec": {
   "display_name": "Python 3",
   "language": "python",
   "name": "python3"
  },
  "language_info": {
   "codemirror_mode": {
    "name": "ipython",
    "version": 2
   },
   "file_extension": ".py",
   "mimetype": "text/x-python",
   "name": "python",
   "nbconvert_exporter": "python",
   "pygments_lexer": "ipython2",
   "version": "2.7.12"
  }
 },
 "nbformat": 4,
 "nbformat_minor": 2
}
